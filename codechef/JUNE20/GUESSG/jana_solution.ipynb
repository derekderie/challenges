{
 "cells": [
  {
   "cell_type": "markdown",
   "metadata": {},
   "source": [
    "Het idee is als volgt: we gaan steeds vragen stellen in triple (max) en daarmee steeds 1/4e uitsluiten.\n",
    "\n",
    "De mogelijke range wordt bewaard door een lijst van tuples die steeds het begin en eind van een stukje mogelijke getallen representeren, eindpunten inclusief.\n",
    "\n",
    "Bij elke gok kan het antwoord ook zijn dat dat het is, dus die mogelijkheid sla ik in de uitleg even over... Just check after each guess. \n",
    "\n",
    "De interessante cases zijn dus dat het hoger of lager ligt. Of het een leugen is of niet hou ik helemaal in het midden, we gaan gewoon vragen stellen tot we contradicties tegenkomen. Dat gebeurd het makkelijkst als er G op een hoger getal wordt geantwoord en L op een lager getal, dus dat gaan we opzoeken! Dan doordat er geen twee leugens achter elkaar mogen volgen, stellen we de tweede vraag nog eens, en kunnen een range uitsluiten!\n",
    "\n",
    "Een voorbeeld:\n",
    "\n",
    "`N = 11`, dus de mogelijke start range is (1,11)\n",
    "\n",
    "1. we vragen dan eerst heel neutraal in het midden: 6\n",
    "1. Stel ze zegt `L`. Om de contradictie op te zoeken vragen we juist _hoger_: 9 (midden van (7,11))\n",
    "  1. Als nu weer `L` zegt, dan weten we dat één van de twee waar is, dus het is minstens lager dan 9. We kunnen dan (9,11) uitsluiten (9 ook omdat ze anders wel `E` had gezegd). __We hoeven dus ook niet nog eens 9 te vragen, maar beginnen opnieuw met de mogelijke range (1,8).__\n",
    "  1. Als ze `G` zegt, dan hebben we de tegenstelling! \n",
    "1. Koppig vragen we nog eens 9\n",
    "  1. Zegt ze nog eens `G`, dan was dat geen leugen, dus kunnen we het hele stuk onder en inclusief 9 uitsluiten. __We kunnen nu verder met de nieuwe range (10,11).__\n",
    "  1. Zegt ze nu opeens `L`, dan weten we het minst: we weten dat het \n",
    "    - óf de `G` voor de negen een leugen was, en het dus onder de 6 én onder de 9 ligt (dus onder de 6), \n",
    "    - óf de `L` voor de negen en het dus boven de 9 ligt. \n",
    "    - We weten dus vooral wel dat het _niet_ in de range (6,9) ligt. __We kunnen dus verder met de nieuwe range [(1,5),(10,11)]__\n",
    "\n",
    "En repeat!"
   ]
  },
  {
   "cell_type": "code",
   "execution_count": 40,
   "metadata": {},
   "outputs": [],
   "source": [
    "from typing import List, Tuple\n",
    "\n",
    "def get_next_guess_from_middle(still_possible: List[Tuple]) -> int:\n",
    "    \"\"\"\n",
    "    Gets the middle value of a list of ranges, provided as tuples (start, end, both inclusive)\n",
    "    \"\"\"\n",
    "    still_possible = sorted(still_possible)\n",
    "    int_lens = [x2 - x1 +1 for (x1, x2) in still_possible]\n",
    "\n",
    "    options_left = sum(int_lens)\n",
    "    mid_point = int(options_left/2)\n",
    "    current_point = 0\n",
    "    next_guess = 1\n",
    "    for ((x1,x2), l) in zip(still_possible, int_lens):\n",
    "        if current_point + l <= mid_point:\n",
    "            current_point += l\n",
    "        else:\n",
    "            next_guess = int(x1 + (mid_point - current_point))\n",
    "            break\n",
    "    return next_guess\n",
    "\n",
    "def get_second_guess(still_possible: List[Tuple], first_guess: int, answer_higher_than: bool) -> int:\n",
    "    \"\"\"\n",
    "    If you have an answer to the first guess, use this to choose the mid point of the range ON THE OPPOSITE SIDE!\n",
    "    \"\"\"\n",
    "    if answer_higher_than:\n",
    "        # Exclude all the values over the first guess to create a contraction\n",
    "        search_range = get_new_range(still_possible,(first_guess,max([x2 for x1,x2 in still_possible]) + 10))\n",
    "    else:\n",
    "        # vice versa\n",
    "        search_range = get_new_range(still_possible, (1, first_guess))\n",
    "    return get_next_guess_from_middle(search_range)\n",
    "\n",
    "def get_new_range(old_range: List[Tuple], excluded_range: Tuple):\n",
    "    \"\"\"\n",
    "    With old_range being a list of tuples, indicating a range (start, end, both inclusive),\n",
    "    the excluded_range is detracted from all provided intervals.\n",
    "    Both endpoints of the excluded range are also removed.\n",
    "    \"\"\"\n",
    "    new_range = []\n",
    "    y1,y2 = excluded_range\n",
    "    for x1,x2 in old_range:\n",
    "        #no overlap\n",
    "        if x1 > y2 or x2 < y1:\n",
    "            new_range.append((x1,x2))\n",
    "        #with overlap\n",
    "        else:\n",
    "            #exclusion before start of this range\n",
    "            if y1 > x1:\n",
    "                new_range.append((x1, y1-1))\n",
    "            #exclusion beyond end of this range\n",
    "            if y2 < x2:\n",
    "                new_range.append((y2+1, x2))\n",
    "    return new_range\n",
    "            \n",
    "\n",
    "def make_a_guess(guess: int) -> Tuple[bool, bool]:\n",
    "    \"\"\"\n",
    "    Return if you found the number, and if the value is higher than the guess\n",
    "    (according to this lier, that is...)\n",
    "    \"\"\"\n",
    "    print(guess)\n",
    "    answer = input()\n",
    "    if answer == 'E':\n",
    "        return True, None\n",
    "    elif answer == 'G':\n",
    "        return False, True\n",
    "    else:\n",
    "        return False, False\n",
    "    \n",
    "    \n",
    "def run(verbose = False):\n",
    "\n",
    "    max_int = int(input())\n",
    "\n",
    "    new_range = [(1,max_int)]\n",
    "    \n",
    "    guess_point = 0\n",
    "\n",
    "    while True:\n",
    "        if verbose:\n",
    "            print(new_range)\n",
    "            \n",
    "        if guess_point == 0:\n",
    "            first_guess = get_next_guess_from_middle(new_range)\n",
    "            found_it, first_answer_higher_than = make_a_guess(first_guess)\n",
    "            if found_it:\n",
    "                break\n",
    "            guess_point += 1\n",
    "            \n",
    "        elif guess_point == 1:\n",
    "            second_guess = get_second_guess(new_range, first_guess, first_answer_higher_than)\n",
    "            found_it, second_answer_higher_than = make_a_guess(second_guess)\n",
    "            if found_it:\n",
    "                break\n",
    "            if first_answer_higher_than != second_answer_higher_than:\n",
    "                guess_point += 1\n",
    "            else:\n",
    "                if first_answer_higher_than:\n",
    "                    new_range = get_new_range(new_range, (1,second_guess))\n",
    "                else:\n",
    "                    new_range = get_new_range(new_range, (second_guess, max_int))\n",
    "                guess_point = 0\n",
    "                \n",
    "        elif guess_point == 2:\n",
    "            found_it, third_answer_higher_than = make_a_guess(second_guess)\n",
    "            if found_it:\n",
    "                break\n",
    "            if second_answer_higher_than != third_answer_higher_than:\n",
    "                new_range = get_new_range(new_range,\n",
    "                                          (min(first_guess, second_guess),\n",
    "                                           max(first_guess, second_guess)))                      \n",
    "            else:\n",
    "                if second_answer_higher_than:\n",
    "                    new_range = get_new_range(new_range, (1,second_guess))\n",
    "                else:\n",
    "                    new_range = get_new_range(new_range, (second_guess, max_int))\n",
    "            guess_point = 0\n",
    "\n",
    "        if found_it:\n",
    "            break\n",
    "\n",
    "# run()"
   ]
  },
  {
   "cell_type": "markdown",
   "metadata": {},
   "source": [
    "## Voorbeeld IRL"
   ]
  },
  {
   "cell_type": "markdown",
   "metadata": {},
   "source": [
    "Voor het voorbeeld van boven, optie 2A, probeer:\n",
    "- 11\n",
    "- L\n",
    "- L\n",
    "- E"
   ]
  },
  {
   "cell_type": "code",
   "execution_count": 41,
   "metadata": {},
   "outputs": [
    {
     "name": "stdout",
     "output_type": "stream",
     "text": [
      "11\n",
      "[(1, 11)]\n",
      "6\n",
      "L\n",
      "[(1, 11)]\n",
      "9\n",
      "L\n",
      "[(1, 8)]\n",
      "5\n",
      "E\n"
     ]
    }
   ],
   "source": [
    "run(True)"
   ]
  },
  {
   "cell_type": "markdown",
   "metadata": {},
   "source": [
    "Voor het voorbeeld van boven, optie 3A, probeer:\n",
    "- 11\n",
    "- L\n",
    "- G\n",
    "- G\n",
    "- E"
   ]
  },
  {
   "cell_type": "code",
   "execution_count": 42,
   "metadata": {},
   "outputs": [
    {
     "name": "stdout",
     "output_type": "stream",
     "text": [
      "11\n",
      "[(1, 11)]\n",
      "6\n",
      "L\n",
      "[(1, 11)]\n",
      "9\n",
      "G\n",
      "[(1, 11)]\n",
      "9\n",
      "G\n",
      "[(10, 11)]\n",
      "11\n",
      "E\n"
     ]
    }
   ],
   "source": [
    "run(True)"
   ]
  },
  {
   "cell_type": "markdown",
   "metadata": {},
   "source": [
    "Voor het voorbeeld van boven, optie 3B, probeer:\n",
    "- 11\n",
    "- L\n",
    "- G\n",
    "- L\n",
    "- E"
   ]
  },
  {
   "cell_type": "code",
   "execution_count": 43,
   "metadata": {},
   "outputs": [
    {
     "name": "stdout",
     "output_type": "stream",
     "text": [
      "11\n",
      "[(1, 11)]\n",
      "6\n",
      "L\n",
      "[(1, 11)]\n",
      "9\n",
      "G\n",
      "[(1, 11)]\n",
      "9\n",
      "L\n",
      "[(1, 5), (10, 11)]\n",
      "4\n",
      "E\n"
     ]
    }
   ],
   "source": [
    "run(True)"
   ]
  },
  {
   "cell_type": "markdown",
   "metadata": {},
   "source": [
    "## Voorbeelden midden van ranges"
   ]
  },
  {
   "cell_type": "code",
   "execution_count": 44,
   "metadata": {},
   "outputs": [
    {
     "data": {
      "text/plain": [
       "6"
      ]
     },
     "execution_count": 44,
     "metadata": {},
     "output_type": "execute_result"
    }
   ],
   "source": [
    "get_next_guess_from_middle([(1,11)])"
   ]
  },
  {
   "cell_type": "markdown",
   "metadata": {},
   "source": [
    "1-10 heeft niet echt een midden: het maakt niet uit of je 5 of 6 kiest, je houdt altijd 4 over aan één kant..."
   ]
  },
  {
   "cell_type": "code",
   "execution_count": 45,
   "metadata": {},
   "outputs": [
    {
     "data": {
      "text/plain": [
       "6"
      ]
     },
     "execution_count": 45,
     "metadata": {},
     "output_type": "execute_result"
    }
   ],
   "source": [
    "get_next_guess_from_middle([(1,10)])"
   ]
  },
  {
   "cell_type": "code",
   "execution_count": 46,
   "metadata": {},
   "outputs": [
    {
     "data": {
      "text/plain": [
       "1"
      ]
     },
     "execution_count": 46,
     "metadata": {},
     "output_type": "execute_result"
    }
   ],
   "source": [
    "get_next_guess_from_middle([(1,1)])"
   ]
  },
  {
   "cell_type": "markdown",
   "metadata": {},
   "source": [
    "[1,3] aan de ene kant, [5,6] aan de andere:"
   ]
  },
  {
   "cell_type": "code",
   "execution_count": 48,
   "metadata": {},
   "outputs": [
    {
     "data": {
      "text/plain": [
       "4"
      ]
     },
     "execution_count": 48,
     "metadata": {},
     "output_type": "execute_result"
    }
   ],
   "source": [
    "get_next_guess_from_middle([(1,1),(3,6)])"
   ]
  },
  {
   "cell_type": "code",
   "execution_count": 49,
   "metadata": {},
   "outputs": [
    {
     "data": {
      "text/plain": [
       "3"
      ]
     },
     "execution_count": 49,
     "metadata": {},
     "output_type": "execute_result"
    }
   ],
   "source": [
    "get_next_guess_from_middle([(1,1),(3,3),(5,5)])"
   ]
  },
  {
   "cell_type": "code",
   "execution_count": 51,
   "metadata": {},
   "outputs": [
    {
     "data": {
      "text/plain": [
       "3"
      ]
     },
     "execution_count": 51,
     "metadata": {},
     "output_type": "execute_result"
    }
   ],
   "source": [
    "get_next_guess_from_middle([(1,1),(2,2),(3,3),(5,5)])"
   ]
  },
  {
   "cell_type": "markdown",
   "metadata": {},
   "source": [
    "## Voorbeelden van range exclusion"
   ]
  },
  {
   "cell_type": "code",
   "execution_count": 52,
   "metadata": {},
   "outputs": [
    {
     "data": {
      "text/plain": [
       "[(1, 4), (16, 20)]"
      ]
     },
     "execution_count": 52,
     "metadata": {},
     "output_type": "execute_result"
    }
   ],
   "source": [
    "get_new_range([(1,20)],(5,15))"
   ]
  },
  {
   "cell_type": "code",
   "execution_count": 53,
   "metadata": {},
   "outputs": [
    {
     "data": {
      "text/plain": [
       "[(1, 3), (16, 20)]"
      ]
     },
     "execution_count": 53,
     "metadata": {},
     "output_type": "execute_result"
    }
   ],
   "source": [
    "get_new_range([(1, 4), (16, 20)],(4,10))"
   ]
  },
  {
   "cell_type": "code",
   "execution_count": 54,
   "metadata": {},
   "outputs": [
    {
     "data": {
      "text/plain": [
       "[(1, 4)]"
      ]
     },
     "execution_count": 54,
     "metadata": {},
     "output_type": "execute_result"
    }
   ],
   "source": [
    "get_new_range([(1, 4), (16, 20)], (10,25))"
   ]
  },
  {
   "cell_type": "markdown",
   "metadata": {},
   "source": [
    "Een volgende voorbeeld zou nooit uit dit algoritme kunnen komen: je snijd alleen wegm dus er zullen geen overlappende ranges over blijven, maar toch:"
   ]
  },
  {
   "cell_type": "code",
   "execution_count": 55,
   "metadata": {},
   "outputs": [
    {
     "data": {
      "text/plain": [
       "[(1, 7), (12, 20), (12, 15), (5, 7), (12, 17), (1, 7)]"
      ]
     },
     "execution_count": 55,
     "metadata": {},
     "output_type": "execute_result"
    }
   ],
   "source": [
    "get_new_range([(1,20),(10,15),(5,17),(1,11)], (8,11))"
   ]
  }
 ],
 "metadata": {
  "kernelspec": {
   "display_name": "Python 3",
   "language": "python",
   "name": "python3"
  },
  "language_info": {
   "codemirror_mode": {
    "name": "ipython",
    "version": 3
   },
   "file_extension": ".py",
   "mimetype": "text/x-python",
   "name": "python",
   "nbconvert_exporter": "python",
   "pygments_lexer": "ipython3",
   "version": "3.7.0"
  }
 },
 "nbformat": 4,
 "nbformat_minor": 2
}
